{
 "cells": [
  {
   "cell_type": "code",
   "execution_count": 1,
   "id": "950b1304",
   "metadata": {},
   "outputs": [
    {
     "name": "stdout",
     "output_type": "stream",
     "text": [
      "Hello world!\n"
     ]
    }
   ],
   "source": [
    "print(\"Hello world!\")"
   ]
  },
  {
   "cell_type": "code",
   "execution_count": 6,
   "id": "f770a5b7",
   "metadata": {},
   "outputs": [
    {
     "name": "stdout",
     "output_type": "stream",
     "text": [
      "What's your name:Divons\n",
      "Hello Divons\n"
     ]
    }
   ],
   "source": [
    "print(\"What's your name:\",end=\"\")\n",
    "guess=input()\n",
    "print(\"Hello \"+str(guess))"
   ]
  },
  {
   "cell_type": "code",
   "execution_count": 59,
   "id": "37cee943",
   "metadata": {},
   "outputs": [],
   "source": [
    "import random\n",
    "def guessnumber(max_n,min_n):\n",
    "    randomnumber=random.randint(max_n,min_n)\n",
    "    guess=int(input())\n",
    "    count=0\n",
    "    def checklimit(guess,randomnumber):\n",
    "        if guess<randomnumber:\n",
    "            print(\"too low\")\n",
    "            print(\"try again\")\n",
    "        elif guess>randomnumber:\n",
    "            print(\"too high\")\n",
    "            print(\"try again\")\n",
    "            \n",
    "    while guess!=randomnumber:\n",
    "        checklimit(guess,randomnumber)\n",
    "        count+=1\n",
    "        guess=int(input())\n",
    "        if guess==randomnumber:\n",
    "            print(f\"correct,total guesses are {count}\".format(count))\n",
    "            break    \n",
    "\n",
    "\n",
    "\n",
    "    \n",
    "    "
   ]
  },
  {
   "cell_type": "code",
   "execution_count": 66,
   "id": "e36c72b8",
   "metadata": {},
   "outputs": [
    {
     "name": "stdout",
     "output_type": "stream",
     "text": [
      "650\n",
      "too low\n",
      "try again\n",
      "750\n",
      "too low\n",
      "try again\n",
      "900\n",
      "too low\n",
      "try again\n",
      "1245\n",
      "too high\n",
      "try again\n",
      "1070\n",
      "too high\n",
      "try again\n",
      "1000\n",
      "too high\n",
      "try again\n",
      "1020\n",
      "too high\n",
      "try again\n",
      "950\n",
      "too low\n",
      "try again\n",
      "970\n",
      "too low\n",
      "try again\n",
      "980\n",
      "too high\n",
      "try again\n",
      "977\n",
      "too high\n",
      "try again\n",
      "978\n",
      "too high\n",
      "try again\n",
      "974\n",
      "too high\n",
      "try again\n",
      "973\n",
      "too high\n",
      "try again\n",
      "971\n",
      "correct,total guesses are 14\n"
     ]
    }
   ],
   "source": [
    "guessnumber(500,1300)"
   ]
  },
  {
   "cell_type": "code",
   "execution_count": null,
   "id": "5bdfc455",
   "metadata": {},
   "outputs": [],
   "source": []
  }
 ],
 "metadata": {
  "kernelspec": {
   "display_name": "Python 3 (ipykernel)",
   "language": "python",
   "name": "python3"
  },
  "language_info": {
   "codemirror_mode": {
    "name": "ipython",
    "version": 3
   },
   "file_extension": ".py",
   "mimetype": "text/x-python",
   "name": "python",
   "nbconvert_exporter": "python",
   "pygments_lexer": "ipython3",
   "version": "3.10.9"
  }
 },
 "nbformat": 4,
 "nbformat_minor": 5
}
